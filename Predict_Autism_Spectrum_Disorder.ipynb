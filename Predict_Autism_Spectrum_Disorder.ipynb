{
  "cells": [
    {
      "cell_type": "markdown",
      "metadata": {
        "id": "LnPbntVRnfvV"
      },
      "source": [
        "Importing the Dependencies"
      ]
    },
    {
      "cell_type": "code",
      "execution_count": 314,
      "metadata": {
        "id": "-71UtHzNVWjB"
      },
      "outputs": [],
      "source": [
        "import numpy as np\n",
        "import pandas as pd\n",
        "from sklearn.preprocessing import StandardScaler\n",
        "from sklearn.model_selection import train_test_split\n",
        "from sklearn import svm\n",
        "from sklearn.metrics import accuracy_score"
      ]
    },
    {
      "cell_type": "markdown",
      "metadata": {
        "id": "bmfOfG8joBBy"
      },
      "source": [
        "Data Collection and Analysis\n",
        "\n",
        "PIMA Diabetes Dataset"
      ]
    },
    {
      "cell_type": "code",
      "execution_count": 339,
      "metadata": {
        "colab": {
          "base_uri": "https://localhost:8080/"
        },
        "id": "Xpw6Mj_pn_TL",
        "outputId": "82bd2c0a-42e1-4cc4-c771-091246868aa4"
      },
      "outputs": [],
      "source": [
        "# loading the diabetes dataset to a pandas DataFrame\n",
        "# from google.colab import drive\n",
        "# drive.mount('/content/drive')\n",
        "autism_dataset = pd.read_csv(\"asd_data_csv.csv\")\n",
        "#autism_dataset = pd.read_csv(\"/content/asd_data_csv.csv\")"
      ]
    },
    {
      "cell_type": "code",
      "execution_count": 363,
      "metadata": {
        "colab": {
          "base_uri": "https://localhost:8080/",
          "height": 322
        },
        "id": "-tjO09ncovoh",
        "outputId": "697701a7-d81c-4986-9f62-12d9bcd4013f"
      },
      "outputs": [
        {
          "data": {
            "text/html": [
              "<div>\n",
              "<style scoped>\n",
              "    .dataframe tbody tr th:only-of-type {\n",
              "        vertical-align: middle;\n",
              "    }\n",
              "\n",
              "    .dataframe tbody tr th {\n",
              "        vertical-align: top;\n",
              "    }\n",
              "\n",
              "    .dataframe thead th {\n",
              "        text-align: right;\n",
              "    }\n",
              "</style>\n",
              "<table border=\"1\" class=\"dataframe\">\n",
              "  <thead>\n",
              "    <tr style=\"text-align: right;\">\n",
              "      <th></th>\n",
              "      <th>Social_Responsiveness_Scale</th>\n",
              "      <th>Age_Years</th>\n",
              "      <th>Speech Delay/Language Disorder</th>\n",
              "      <th>Learning disorder</th>\n",
              "      <th>Genetic_Disorders</th>\n",
              "      <th>Depression</th>\n",
              "      <th>Global developoental delay/intellectual disability</th>\n",
              "      <th>Social/Behavioural Issues</th>\n",
              "      <th>Anxiety_disorder</th>\n",
              "      <th>Sex</th>\n",
              "      <th>Jaundice</th>\n",
              "      <th>Family_member_with_ASD</th>\n",
              "      <th>Outcome</th>\n",
              "    </tr>\n",
              "  </thead>\n",
              "  <tbody>\n",
              "    <tr>\n",
              "      <th>0</th>\n",
              "      <td>3</td>\n",
              "      <td>2</td>\n",
              "      <td>1</td>\n",
              "      <td>1</td>\n",
              "      <td>1</td>\n",
              "      <td>1</td>\n",
              "      <td>1</td>\n",
              "      <td>1</td>\n",
              "      <td>1</td>\n",
              "      <td>1</td>\n",
              "      <td>1</td>\n",
              "      <td>0</td>\n",
              "      <td>0</td>\n",
              "    </tr>\n",
              "    <tr>\n",
              "      <th>1</th>\n",
              "      <td>6</td>\n",
              "      <td>3</td>\n",
              "      <td>1</td>\n",
              "      <td>1</td>\n",
              "      <td>1</td>\n",
              "      <td>1</td>\n",
              "      <td>1</td>\n",
              "      <td>1</td>\n",
              "      <td>1</td>\n",
              "      <td>0</td>\n",
              "      <td>1</td>\n",
              "      <td>0</td>\n",
              "      <td>1</td>\n",
              "    </tr>\n",
              "    <tr>\n",
              "      <th>2</th>\n",
              "      <td>7</td>\n",
              "      <td>3</td>\n",
              "      <td>1</td>\n",
              "      <td>1</td>\n",
              "      <td>1</td>\n",
              "      <td>1</td>\n",
              "      <td>1</td>\n",
              "      <td>1</td>\n",
              "      <td>1</td>\n",
              "      <td>0</td>\n",
              "      <td>1</td>\n",
              "      <td>0</td>\n",
              "      <td>1</td>\n",
              "    </tr>\n",
              "    <tr>\n",
              "      <th>3</th>\n",
              "      <td>1</td>\n",
              "      <td>2</td>\n",
              "      <td>1</td>\n",
              "      <td>1</td>\n",
              "      <td>0</td>\n",
              "      <td>1</td>\n",
              "      <td>1</td>\n",
              "      <td>1</td>\n",
              "      <td>1</td>\n",
              "      <td>0</td>\n",
              "      <td>0</td>\n",
              "      <td>0</td>\n",
              "      <td>1</td>\n",
              "    </tr>\n",
              "    <tr>\n",
              "      <th>4</th>\n",
              "      <td>3</td>\n",
              "      <td>2</td>\n",
              "      <td>1</td>\n",
              "      <td>1</td>\n",
              "      <td>0</td>\n",
              "      <td>1</td>\n",
              "      <td>1</td>\n",
              "      <td>1</td>\n",
              "      <td>1</td>\n",
              "      <td>1</td>\n",
              "      <td>0</td>\n",
              "      <td>0</td>\n",
              "      <td>1</td>\n",
              "    </tr>\n",
              "  </tbody>\n",
              "</table>\n",
              "</div>"
            ],
            "text/plain": [
              "   Social_Responsiveness_Scale  Age_Years  Speech Delay/Language Disorder  \\\n",
              "0                            3          2                               1   \n",
              "1                            6          3                               1   \n",
              "2                            7          3                               1   \n",
              "3                            1          2                               1   \n",
              "4                            3          2                               1   \n",
              "\n",
              "   Learning disorder  Genetic_Disorders  Depression  \\\n",
              "0                  1                  1           1   \n",
              "1                  1                  1           1   \n",
              "2                  1                  1           1   \n",
              "3                  1                  0           1   \n",
              "4                  1                  0           1   \n",
              "\n",
              "   Global developoental delay/intellectual disability  \\\n",
              "0                                                  1    \n",
              "1                                                  1    \n",
              "2                                                  1    \n",
              "3                                                  1    \n",
              "4                                                  1    \n",
              "\n",
              "   Social/Behavioural Issues  Anxiety_disorder  Sex  Jaundice  \\\n",
              "0                          1                 1    1         1   \n",
              "1                          1                 1    0         1   \n",
              "2                          1                 1    0         1   \n",
              "3                          1                 1    0         0   \n",
              "4                          1                 1    1         0   \n",
              "\n",
              "   Family_member_with_ASD  Outcome  \n",
              "0                       0        0  \n",
              "1                       0        1  \n",
              "2                       0        1  \n",
              "3                       0        1  \n",
              "4                       0        1  "
            ]
          },
          "execution_count": 363,
          "metadata": {},
          "output_type": "execute_result"
        }
      ],
      "source": [
        "# printing the first 5 rows of the dataset\n",
        "autism_dataset.head()"
      ]
    },
    {
      "cell_type": "code",
      "execution_count": 386,
      "metadata": {
        "colab": {
          "base_uri": "https://localhost:8080/"
        },
        "id": "lynParo6pEMB",
        "outputId": "6207789d-5c06-4b2f-f30e-9b5a6ac5ec27"
      },
      "outputs": [
        {
          "data": {
            "text/plain": [
              "(1961, 13)"
            ]
          },
          "execution_count": 386,
          "metadata": {},
          "output_type": "execute_result"
        }
      ],
      "source": [
        "# number of rows and Columns in this dataset\n",
        "autism_dataset.shape"
      ]
    },
    {
      "cell_type": "code",
      "execution_count": 408,
      "metadata": {
        "colab": {
          "base_uri": "https://localhost:8080/",
          "height": 416
        },
        "id": "3NDJOlrEpmoL",
        "outputId": "7ca2c1cc-490b-4346-aa45-f6716b643cdf"
      },
      "outputs": [
        {
          "data": {
            "text/html": [
              "<div>\n",
              "<style scoped>\n",
              "    .dataframe tbody tr th:only-of-type {\n",
              "        vertical-align: middle;\n",
              "    }\n",
              "\n",
              "    .dataframe tbody tr th {\n",
              "        vertical-align: top;\n",
              "    }\n",
              "\n",
              "    .dataframe thead th {\n",
              "        text-align: right;\n",
              "    }\n",
              "</style>\n",
              "<table border=\"1\" class=\"dataframe\">\n",
              "  <thead>\n",
              "    <tr style=\"text-align: right;\">\n",
              "      <th></th>\n",
              "      <th>Social_Responsiveness_Scale</th>\n",
              "      <th>Age_Years</th>\n",
              "      <th>Speech Delay/Language Disorder</th>\n",
              "      <th>Learning disorder</th>\n",
              "      <th>Genetic_Disorders</th>\n",
              "      <th>Depression</th>\n",
              "      <th>Global developoental delay/intellectual disability</th>\n",
              "      <th>Social/Behavioural Issues</th>\n",
              "      <th>Anxiety_disorder</th>\n",
              "      <th>Sex</th>\n",
              "      <th>Jaundice</th>\n",
              "      <th>Family_member_with_ASD</th>\n",
              "      <th>Outcome</th>\n",
              "    </tr>\n",
              "  </thead>\n",
              "  <tbody>\n",
              "    <tr>\n",
              "      <th>count</th>\n",
              "      <td>1961.000000</td>\n",
              "      <td>1961.000000</td>\n",
              "      <td>1961.000000</td>\n",
              "      <td>1961.000000</td>\n",
              "      <td>1961.000000</td>\n",
              "      <td>1961.000000</td>\n",
              "      <td>1961.000000</td>\n",
              "      <td>1961.000000</td>\n",
              "      <td>1961.000000</td>\n",
              "      <td>1961.000000</td>\n",
              "      <td>1961.000000</td>\n",
              "      <td>1961.000000</td>\n",
              "      <td>1961.000000</td>\n",
              "    </tr>\n",
              "    <tr>\n",
              "      <th>mean</th>\n",
              "      <td>3.083631</td>\n",
              "      <td>9.618052</td>\n",
              "      <td>0.527282</td>\n",
              "      <td>0.535951</td>\n",
              "      <td>0.505354</td>\n",
              "      <td>0.525752</td>\n",
              "      <td>0.525752</td>\n",
              "      <td>0.525752</td>\n",
              "      <td>0.524222</td>\n",
              "      <td>0.272820</td>\n",
              "      <td>0.771545</td>\n",
              "      <td>0.327384</td>\n",
              "      <td>0.538501</td>\n",
              "    </tr>\n",
              "    <tr>\n",
              "      <th>std</th>\n",
              "      <td>3.691156</td>\n",
              "      <td>4.301336</td>\n",
              "      <td>0.499382</td>\n",
              "      <td>0.498833</td>\n",
              "      <td>0.500099</td>\n",
              "      <td>0.499464</td>\n",
              "      <td>0.499464</td>\n",
              "      <td>0.499464</td>\n",
              "      <td>0.499540</td>\n",
              "      <td>0.445523</td>\n",
              "      <td>0.419944</td>\n",
              "      <td>0.469378</td>\n",
              "      <td>0.498643</td>\n",
              "    </tr>\n",
              "    <tr>\n",
              "      <th>min</th>\n",
              "      <td>0.000000</td>\n",
              "      <td>1.000000</td>\n",
              "      <td>0.000000</td>\n",
              "      <td>0.000000</td>\n",
              "      <td>0.000000</td>\n",
              "      <td>0.000000</td>\n",
              "      <td>0.000000</td>\n",
              "      <td>0.000000</td>\n",
              "      <td>0.000000</td>\n",
              "      <td>0.000000</td>\n",
              "      <td>0.000000</td>\n",
              "      <td>0.000000</td>\n",
              "      <td>0.000000</td>\n",
              "    </tr>\n",
              "    <tr>\n",
              "      <th>25%</th>\n",
              "      <td>0.000000</td>\n",
              "      <td>7.000000</td>\n",
              "      <td>0.000000</td>\n",
              "      <td>0.000000</td>\n",
              "      <td>0.000000</td>\n",
              "      <td>0.000000</td>\n",
              "      <td>0.000000</td>\n",
              "      <td>0.000000</td>\n",
              "      <td>0.000000</td>\n",
              "      <td>0.000000</td>\n",
              "      <td>1.000000</td>\n",
              "      <td>0.000000</td>\n",
              "      <td>0.000000</td>\n",
              "    </tr>\n",
              "    <tr>\n",
              "      <th>50%</th>\n",
              "      <td>1.000000</td>\n",
              "      <td>9.000000</td>\n",
              "      <td>1.000000</td>\n",
              "      <td>1.000000</td>\n",
              "      <td>1.000000</td>\n",
              "      <td>1.000000</td>\n",
              "      <td>1.000000</td>\n",
              "      <td>1.000000</td>\n",
              "      <td>1.000000</td>\n",
              "      <td>0.000000</td>\n",
              "      <td>1.000000</td>\n",
              "      <td>0.000000</td>\n",
              "      <td>1.000000</td>\n",
              "    </tr>\n",
              "    <tr>\n",
              "      <th>75%</th>\n",
              "      <td>5.000000</td>\n",
              "      <td>14.000000</td>\n",
              "      <td>1.000000</td>\n",
              "      <td>1.000000</td>\n",
              "      <td>1.000000</td>\n",
              "      <td>1.000000</td>\n",
              "      <td>1.000000</td>\n",
              "      <td>1.000000</td>\n",
              "      <td>1.000000</td>\n",
              "      <td>1.000000</td>\n",
              "      <td>1.000000</td>\n",
              "      <td>1.000000</td>\n",
              "      <td>1.000000</td>\n",
              "    </tr>\n",
              "    <tr>\n",
              "      <th>max</th>\n",
              "      <td>10.000000</td>\n",
              "      <td>18.000000</td>\n",
              "      <td>1.000000</td>\n",
              "      <td>1.000000</td>\n",
              "      <td>1.000000</td>\n",
              "      <td>1.000000</td>\n",
              "      <td>1.000000</td>\n",
              "      <td>1.000000</td>\n",
              "      <td>1.000000</td>\n",
              "      <td>1.000000</td>\n",
              "      <td>1.000000</td>\n",
              "      <td>1.000000</td>\n",
              "      <td>1.000000</td>\n",
              "    </tr>\n",
              "  </tbody>\n",
              "</table>\n",
              "</div>"
            ],
            "text/plain": [
              "       Social_Responsiveness_Scale    Age_Years  \\\n",
              "count                  1961.000000  1961.000000   \n",
              "mean                      3.083631     9.618052   \n",
              "std                       3.691156     4.301336   \n",
              "min                       0.000000     1.000000   \n",
              "25%                       0.000000     7.000000   \n",
              "50%                       1.000000     9.000000   \n",
              "75%                       5.000000    14.000000   \n",
              "max                      10.000000    18.000000   \n",
              "\n",
              "       Speech Delay/Language Disorder  Learning disorder  Genetic_Disorders  \\\n",
              "count                     1961.000000        1961.000000        1961.000000   \n",
              "mean                         0.527282           0.535951           0.505354   \n",
              "std                          0.499382           0.498833           0.500099   \n",
              "min                          0.000000           0.000000           0.000000   \n",
              "25%                          0.000000           0.000000           0.000000   \n",
              "50%                          1.000000           1.000000           1.000000   \n",
              "75%                          1.000000           1.000000           1.000000   \n",
              "max                          1.000000           1.000000           1.000000   \n",
              "\n",
              "        Depression  Global developoental delay/intellectual disability  \\\n",
              "count  1961.000000                                        1961.000000    \n",
              "mean      0.525752                                           0.525752    \n",
              "std       0.499464                                           0.499464    \n",
              "min       0.000000                                           0.000000    \n",
              "25%       0.000000                                           0.000000    \n",
              "50%       1.000000                                           1.000000    \n",
              "75%       1.000000                                           1.000000    \n",
              "max       1.000000                                           1.000000    \n",
              "\n",
              "       Social/Behavioural Issues  Anxiety_disorder          Sex     Jaundice  \\\n",
              "count                1961.000000       1961.000000  1961.000000  1961.000000   \n",
              "mean                    0.525752          0.524222     0.272820     0.771545   \n",
              "std                     0.499464          0.499540     0.445523     0.419944   \n",
              "min                     0.000000          0.000000     0.000000     0.000000   \n",
              "25%                     0.000000          0.000000     0.000000     1.000000   \n",
              "50%                     1.000000          1.000000     0.000000     1.000000   \n",
              "75%                     1.000000          1.000000     1.000000     1.000000   \n",
              "max                     1.000000          1.000000     1.000000     1.000000   \n",
              "\n",
              "       Family_member_with_ASD      Outcome  \n",
              "count             1961.000000  1961.000000  \n",
              "mean                 0.327384     0.538501  \n",
              "std                  0.469378     0.498643  \n",
              "min                  0.000000     0.000000  \n",
              "25%                  0.000000     0.000000  \n",
              "50%                  0.000000     1.000000  \n",
              "75%                  1.000000     1.000000  \n",
              "max                  1.000000     1.000000  "
            ]
          },
          "execution_count": 408,
          "metadata": {},
          "output_type": "execute_result"
        }
      ],
      "source": [
        "# getting the statistical measures of the data\n",
        "autism_dataset.describe()"
      ]
    },
    {
      "cell_type": "code",
      "execution_count": 429,
      "metadata": {
        "colab": {
          "base_uri": "https://localhost:8080/"
        },
        "id": "LrpHzaGpp5dQ",
        "outputId": "e6f30e77-4b00-45f3-f802-3c56cbf8b364"
      },
      "outputs": [
        {
          "data": {
            "text/plain": [
              "Outcome\n",
              "1    1056\n",
              "0     905\n",
              "Name: count, dtype: int64"
            ]
          },
          "execution_count": 429,
          "metadata": {},
          "output_type": "execute_result"
        }
      ],
      "source": [
        "autism_dataset['Outcome'].value_counts()"
      ]
    },
    {
      "cell_type": "markdown",
      "metadata": {
        "id": "cB1qRaNcqeh5"
      },
      "source": [
        "0 --> Not with ASD\n",
        "\n",
        "1 --> With ASD"
      ]
    },
    {
      "cell_type": "code",
      "execution_count": 449,
      "metadata": {
        "colab": {
          "base_uri": "https://localhost:8080/",
          "height": 259
        },
        "id": "I6MWR0k_qSCK",
        "outputId": "c124ba56-ad22-41c1-b175-ffe5971b08e4"
      },
      "outputs": [
        {
          "data": {
            "text/html": [
              "<div>\n",
              "<style scoped>\n",
              "    .dataframe tbody tr th:only-of-type {\n",
              "        vertical-align: middle;\n",
              "    }\n",
              "\n",
              "    .dataframe tbody tr th {\n",
              "        vertical-align: top;\n",
              "    }\n",
              "\n",
              "    .dataframe thead th {\n",
              "        text-align: right;\n",
              "    }\n",
              "</style>\n",
              "<table border=\"1\" class=\"dataframe\">\n",
              "  <thead>\n",
              "    <tr style=\"text-align: right;\">\n",
              "      <th></th>\n",
              "      <th>Social_Responsiveness_Scale</th>\n",
              "      <th>Age_Years</th>\n",
              "      <th>Speech Delay/Language Disorder</th>\n",
              "      <th>Learning disorder</th>\n",
              "      <th>Genetic_Disorders</th>\n",
              "      <th>Depression</th>\n",
              "      <th>Global developoental delay/intellectual disability</th>\n",
              "      <th>Social/Behavioural Issues</th>\n",
              "      <th>Anxiety_disorder</th>\n",
              "      <th>Sex</th>\n",
              "      <th>Jaundice</th>\n",
              "      <th>Family_member_with_ASD</th>\n",
              "    </tr>\n",
              "    <tr>\n",
              "      <th>Outcome</th>\n",
              "      <th></th>\n",
              "      <th></th>\n",
              "      <th></th>\n",
              "      <th></th>\n",
              "      <th></th>\n",
              "      <th></th>\n",
              "      <th></th>\n",
              "      <th></th>\n",
              "      <th></th>\n",
              "      <th></th>\n",
              "      <th></th>\n",
              "      <th></th>\n",
              "    </tr>\n",
              "  </thead>\n",
              "  <tbody>\n",
              "    <tr>\n",
              "      <th>0</th>\n",
              "      <td>1.942541</td>\n",
              "      <td>9.717127</td>\n",
              "      <td>0.354696</td>\n",
              "      <td>0.367956</td>\n",
              "      <td>0.340331</td>\n",
              "      <td>0.353591</td>\n",
              "      <td>0.352486</td>\n",
              "      <td>0.353591</td>\n",
              "      <td>0.352486</td>\n",
              "      <td>0.469613</td>\n",
              "      <td>0.704972</td>\n",
              "      <td>0.184530</td>\n",
              "    </tr>\n",
              "    <tr>\n",
              "      <th>1</th>\n",
              "      <td>4.061553</td>\n",
              "      <td>9.533144</td>\n",
              "      <td>0.675189</td>\n",
              "      <td>0.679924</td>\n",
              "      <td>0.646780</td>\n",
              "      <td>0.673295</td>\n",
              "      <td>0.674242</td>\n",
              "      <td>0.673295</td>\n",
              "      <td>0.671402</td>\n",
              "      <td>0.104167</td>\n",
              "      <td>0.828598</td>\n",
              "      <td>0.449811</td>\n",
              "    </tr>\n",
              "  </tbody>\n",
              "</table>\n",
              "</div>"
            ],
            "text/plain": [
              "         Social_Responsiveness_Scale  Age_Years  \\\n",
              "Outcome                                           \n",
              "0                           1.942541   9.717127   \n",
              "1                           4.061553   9.533144   \n",
              "\n",
              "         Speech Delay/Language Disorder  Learning disorder  Genetic_Disorders  \\\n",
              "Outcome                                                                         \n",
              "0                              0.354696           0.367956           0.340331   \n",
              "1                              0.675189           0.679924           0.646780   \n",
              "\n",
              "         Depression  Global developoental delay/intellectual disability  \\\n",
              "Outcome                                                                   \n",
              "0          0.353591                                           0.352486    \n",
              "1          0.673295                                           0.674242    \n",
              "\n",
              "         Social/Behavioural Issues  Anxiety_disorder       Sex  Jaundice  \\\n",
              "Outcome                                                                    \n",
              "0                         0.353591          0.352486  0.469613  0.704972   \n",
              "1                         0.673295          0.671402  0.104167  0.828598   \n",
              "\n",
              "         Family_member_with_ASD  \n",
              "Outcome                          \n",
              "0                      0.184530  \n",
              "1                      0.449811  "
            ]
          },
          "execution_count": 449,
          "metadata": {},
          "output_type": "execute_result"
        }
      ],
      "source": [
        "autism_dataset.groupby('Outcome').mean()"
      ]
    },
    {
      "cell_type": "code",
      "execution_count": 670,
      "metadata": {
        "id": "RoDW7l9mqqHZ"
      },
      "outputs": [],
      "source": [
        "# separating the data and labels\n",
        "X = autism_dataset.drop(columns = 'Outcome', axis=1).values\n",
        "Y = autism_dataset['Outcome'].values"
      ]
    },
    {
      "cell_type": "code",
      "execution_count": 690,
      "metadata": {
        "colab": {
          "base_uri": "https://localhost:8080/"
        },
        "id": "3eiRW9M9raMm",
        "outputId": "3f986a9d-dbe0-4bca-9e2e-5baad5f0df55"
      },
      "outputs": [
        {
          "name": "stdout",
          "output_type": "stream",
          "text": [
            "[[-0.02266285 -1.77154153  0.94684654 ...  1.63261158  0.54415114\n",
            "  -0.69766208]\n",
            " [ 0.7902979  -1.53899632  0.94684654 ... -0.61251556  0.54415114\n",
            "  -0.69766208]\n",
            " [ 1.06128481 -1.53899632  0.94684654 ... -0.61251556  0.54415114\n",
            "  -0.69766208]\n",
            " ...\n",
            " [-0.56463669 -0.60881547 -1.05613735 ... -0.61251556 -1.83772472\n",
            "  -0.69766208]\n",
            " [-0.8356236   1.01900103 -1.05613735 ... -0.61251556 -1.83772472\n",
            "  -0.69766208]\n",
            " [-0.56463669 -0.60881547 -1.05613735 ... -0.61251556 -1.83772472\n",
            "  -0.69766208]]\n"
          ]
        }
      ],
      "source": [
        "print(X)"
      ]
    },
    {
      "cell_type": "code",
      "execution_count": 709,
      "metadata": {
        "colab": {
          "base_uri": "https://localhost:8080/"
        },
        "id": "AoxgTJAMrcCl",
        "outputId": "0bf57667-0466-48da-8801-a3a30551b91a"
      },
      "outputs": [
        {
          "name": "stdout",
          "output_type": "stream",
          "text": [
            "0       0\n",
            "1       1\n",
            "2       1\n",
            "3       1\n",
            "4       1\n",
            "       ..\n",
            "1956    0\n",
            "1957    0\n",
            "1958    1\n",
            "1959    0\n",
            "1960    1\n",
            "Name: Outcome, Length: 1961, dtype: int64\n"
          ]
        }
      ],
      "source": [
        "print(Y)"
      ]
    },
    {
      "cell_type": "markdown",
      "metadata": {
        "id": "umAbo_kqrlzI"
      },
      "source": [
        "Data Standardization"
      ]
    },
    {
      "cell_type": "code",
      "execution_count": 727,
      "metadata": {
        "id": "njfM5X60rgnc"
      },
      "outputs": [],
      "source": [
        "scaler = StandardScaler()"
      ]
    },
    {
      "cell_type": "code",
      "execution_count": 744,
      "metadata": {
        "colab": {
          "base_uri": "https://localhost:8080/",
          "height": 74
        },
        "id": "g0ai5ARbr53p",
        "outputId": "2b4a0124-2b45-4cf2-bc1d-319c89711208"
      },
      "outputs": [
        {
          "data": {
            "text/html": [
              "<style>#sk-container-id-72 {color: black;}#sk-container-id-72 pre{padding: 0;}#sk-container-id-72 div.sk-toggleable {background-color: white;}#sk-container-id-72 label.sk-toggleable__label {cursor: pointer;display: block;width: 100%;margin-bottom: 0;padding: 0.3em;box-sizing: border-box;text-align: center;}#sk-container-id-72 label.sk-toggleable__label-arrow:before {content: \"▸\";float: left;margin-right: 0.25em;color: #696969;}#sk-container-id-72 label.sk-toggleable__label-arrow:hover:before {color: black;}#sk-container-id-72 div.sk-estimator:hover label.sk-toggleable__label-arrow:before {color: black;}#sk-container-id-72 div.sk-toggleable__content {max-height: 0;max-width: 0;overflow: hidden;text-align: left;background-color: #f0f8ff;}#sk-container-id-72 div.sk-toggleable__content pre {margin: 0.2em;color: black;border-radius: 0.25em;background-color: #f0f8ff;}#sk-container-id-72 input.sk-toggleable__control:checked~div.sk-toggleable__content {max-height: 200px;max-width: 100%;overflow: auto;}#sk-container-id-72 input.sk-toggleable__control:checked~label.sk-toggleable__label-arrow:before {content: \"▾\";}#sk-container-id-72 div.sk-estimator input.sk-toggleable__control:checked~label.sk-toggleable__label {background-color: #d4ebff;}#sk-container-id-72 div.sk-label input.sk-toggleable__control:checked~label.sk-toggleable__label {background-color: #d4ebff;}#sk-container-id-72 input.sk-hidden--visually {border: 0;clip: rect(1px 1px 1px 1px);clip: rect(1px, 1px, 1px, 1px);height: 1px;margin: -1px;overflow: hidden;padding: 0;position: absolute;width: 1px;}#sk-container-id-72 div.sk-estimator {font-family: monospace;background-color: #f0f8ff;border: 1px dotted black;border-radius: 0.25em;box-sizing: border-box;margin-bottom: 0.5em;}#sk-container-id-72 div.sk-estimator:hover {background-color: #d4ebff;}#sk-container-id-72 div.sk-parallel-item::after {content: \"\";width: 100%;border-bottom: 1px solid gray;flex-grow: 1;}#sk-container-id-72 div.sk-label:hover label.sk-toggleable__label {background-color: #d4ebff;}#sk-container-id-72 div.sk-serial::before {content: \"\";position: absolute;border-left: 1px solid gray;box-sizing: border-box;top: 0;bottom: 0;left: 50%;z-index: 0;}#sk-container-id-72 div.sk-serial {display: flex;flex-direction: column;align-items: center;background-color: white;padding-right: 0.2em;padding-left: 0.2em;position: relative;}#sk-container-id-72 div.sk-item {position: relative;z-index: 1;}#sk-container-id-72 div.sk-parallel {display: flex;align-items: stretch;justify-content: center;background-color: white;position: relative;}#sk-container-id-72 div.sk-item::before, #sk-container-id-72 div.sk-parallel-item::before {content: \"\";position: absolute;border-left: 1px solid gray;box-sizing: border-box;top: 0;bottom: 0;left: 50%;z-index: -1;}#sk-container-id-72 div.sk-parallel-item {display: flex;flex-direction: column;z-index: 1;position: relative;background-color: white;}#sk-container-id-72 div.sk-parallel-item:first-child::after {align-self: flex-end;width: 50%;}#sk-container-id-72 div.sk-parallel-item:last-child::after {align-self: flex-start;width: 50%;}#sk-container-id-72 div.sk-parallel-item:only-child::after {width: 0;}#sk-container-id-72 div.sk-dashed-wrapped {border: 1px dashed gray;margin: 0 0.4em 0.5em 0.4em;box-sizing: border-box;padding-bottom: 0.4em;background-color: white;}#sk-container-id-72 div.sk-label label {font-family: monospace;font-weight: bold;display: inline-block;line-height: 1.2em;}#sk-container-id-72 div.sk-label-container {text-align: center;}#sk-container-id-72 div.sk-container {/* jupyter's `normalize.less` sets `[hidden] { display: none; }` but bootstrap.min.css set `[hidden] { display: none !important; }` so we also need the `!important` here to be able to override the default hidden behavior on the sphinx rendered scikit-learn.org. See: https://github.com/scikit-learn/scikit-learn/issues/21755 */display: inline-block !important;position: relative;}#sk-container-id-72 div.sk-text-repr-fallback {display: none;}</style><div id=\"sk-container-id-72\" class=\"sk-top-container\"><div class=\"sk-text-repr-fallback\"><pre>StandardScaler()</pre><b>In a Jupyter environment, please rerun this cell to show the HTML representation or trust the notebook. <br />On GitHub, the HTML representation is unable to render, please try loading this page with nbviewer.org.</b></div><div class=\"sk-container\" hidden><div class=\"sk-item\"><div class=\"sk-estimator sk-toggleable\"><input class=\"sk-toggleable__control sk-hidden--visually\" id=\"sk-estimator-id-72\" type=\"checkbox\" checked><label for=\"sk-estimator-id-72\" class=\"sk-toggleable__label sk-toggleable__label-arrow\">StandardScaler</label><div class=\"sk-toggleable__content\"><pre>StandardScaler()</pre></div></div></div></div></div>"
            ],
            "text/plain": [
              "StandardScaler()"
            ]
          },
          "execution_count": 744,
          "metadata": {},
          "output_type": "execute_result"
        }
      ],
      "source": [
        "scaler.fit(X)"
      ]
    },
    {
      "cell_type": "code",
      "execution_count": 760,
      "metadata": {
        "id": "FHxNwPuZr-kD"
      },
      "outputs": [],
      "source": [
        "standardized_data = scaler.transform(X)"
      ]
    },
    {
      "cell_type": "code",
      "execution_count": 775,
      "metadata": {
        "colab": {
          "base_uri": "https://localhost:8080/"
        },
        "id": "fjMwZ5x6sPUJ",
        "outputId": "ab5e015e-95b9-4751-fe71-d4ca8a203dd8"
      },
      "outputs": [
        {
          "name": "stdout",
          "output_type": "stream",
          "text": [
            "[[-0.02266285 -1.77154153  0.94684654 ...  1.63261158  0.54415114\n",
            "  -0.69766208]\n",
            " [ 0.7902979  -1.53899632  0.94684654 ... -0.61251556  0.54415114\n",
            "  -0.69766208]\n",
            " [ 1.06128481 -1.53899632  0.94684654 ... -0.61251556  0.54415114\n",
            "  -0.69766208]\n",
            " ...\n",
            " [-0.56463669 -0.60881547 -1.05613735 ... -0.61251556 -1.83772472\n",
            "  -0.69766208]\n",
            " [-0.8356236   1.01900103 -1.05613735 ... -0.61251556 -1.83772472\n",
            "  -0.69766208]\n",
            " [-0.56463669 -0.60881547 -1.05613735 ... -0.61251556 -1.83772472\n",
            "  -0.69766208]]\n"
          ]
        }
      ],
      "source": [
        "print(standardized_data)"
      ]
    },
    {
      "cell_type": "code",
      "execution_count": 804,
      "metadata": {
        "id": "ZxWSl4SGsRjE"
      },
      "outputs": [],
      "source": [
        "X = standardized_data\n",
        "Y = autism_dataset['Outcome'].values"
      ]
    },
    {
      "cell_type": "code",
      "execution_count": 817,
      "metadata": {
        "colab": {
          "base_uri": "https://localhost:8080/"
        },
        "id": "lhJF_7QjsjmP",
        "outputId": "f8bd1128-ad47-4f17-9384-1aef861f1bde"
      },
      "outputs": [
        {
          "name": "stdout",
          "output_type": "stream",
          "text": [
            "[[-0.02266285 -1.77154153  0.94684654 ...  1.63261158  0.54415114\n",
            "  -0.69766208]\n",
            " [ 0.7902979  -1.53899632  0.94684654 ... -0.61251556  0.54415114\n",
            "  -0.69766208]\n",
            " [ 1.06128481 -1.53899632  0.94684654 ... -0.61251556  0.54415114\n",
            "  -0.69766208]\n",
            " ...\n",
            " [-0.56463669 -0.60881547 -1.05613735 ... -0.61251556 -1.83772472\n",
            "  -0.69766208]\n",
            " [-0.8356236   1.01900103 -1.05613735 ... -0.61251556 -1.83772472\n",
            "  -0.69766208]\n",
            " [-0.56463669 -0.60881547 -1.05613735 ... -0.61251556 -1.83772472\n",
            "  -0.69766208]]\n",
            "[0 1 1 ... 1 0 1]\n"
          ]
        }
      ],
      "source": [
        "print(X)\n",
        "print(Y)"
      ]
    },
    {
      "cell_type": "markdown",
      "metadata": {
        "id": "gHciEFkxsoQP"
      },
      "source": [
        "Train Test Split"
      ]
    },
    {
      "cell_type": "code",
      "execution_count": 829,
      "metadata": {
        "id": "AEfKGj_yslvD"
      },
      "outputs": [],
      "source": [
        "X_train, X_test, Y_train, Y_test = train_test_split(X,Y, test_size = 0.2, stratify=Y, random_state=2)"
      ]
    },
    {
      "cell_type": "code",
      "execution_count": 840,
      "metadata": {
        "colab": {
          "base_uri": "https://localhost:8080/"
        },
        "id": "DR05T-o0t3FQ",
        "outputId": "c7edff6f-fbb1-484c-fc2f-79285c70121f"
      },
      "outputs": [
        {
          "name": "stdout",
          "output_type": "stream",
          "text": [
            "(1961, 12) (1568, 12) (393, 12)\n"
          ]
        }
      ],
      "source": [
        "print(X.shape, X_train.shape, X_test.shape)"
      ]
    },
    {
      "cell_type": "markdown",
      "metadata": {
        "id": "ElJ3tkOtuC_n"
      },
      "source": [
        "Training the Model"
      ]
    },
    {
      "cell_type": "code",
      "execution_count": 850,
      "metadata": {
        "id": "5szLWHlNt9xc"
      },
      "outputs": [],
      "source": [
        "classifier = svm.SVC(kernel='linear')"
      ]
    },
    {
      "cell_type": "code",
      "execution_count": 859,
      "metadata": {
        "colab": {
          "base_uri": "https://localhost:8080/",
          "height": 74
        },
        "id": "ncJWY_7suPAb",
        "outputId": "3db3de9b-0c92-4518-801f-6f310c8b210b"
      },
      "outputs": [
        {
          "data": {
            "text/html": [
              "<style>#sk-container-id-82 {color: black;}#sk-container-id-82 pre{padding: 0;}#sk-container-id-82 div.sk-toggleable {background-color: white;}#sk-container-id-82 label.sk-toggleable__label {cursor: pointer;display: block;width: 100%;margin-bottom: 0;padding: 0.3em;box-sizing: border-box;text-align: center;}#sk-container-id-82 label.sk-toggleable__label-arrow:before {content: \"▸\";float: left;margin-right: 0.25em;color: #696969;}#sk-container-id-82 label.sk-toggleable__label-arrow:hover:before {color: black;}#sk-container-id-82 div.sk-estimator:hover label.sk-toggleable__label-arrow:before {color: black;}#sk-container-id-82 div.sk-toggleable__content {max-height: 0;max-width: 0;overflow: hidden;text-align: left;background-color: #f0f8ff;}#sk-container-id-82 div.sk-toggleable__content pre {margin: 0.2em;color: black;border-radius: 0.25em;background-color: #f0f8ff;}#sk-container-id-82 input.sk-toggleable__control:checked~div.sk-toggleable__content {max-height: 200px;max-width: 100%;overflow: auto;}#sk-container-id-82 input.sk-toggleable__control:checked~label.sk-toggleable__label-arrow:before {content: \"▾\";}#sk-container-id-82 div.sk-estimator input.sk-toggleable__control:checked~label.sk-toggleable__label {background-color: #d4ebff;}#sk-container-id-82 div.sk-label input.sk-toggleable__control:checked~label.sk-toggleable__label {background-color: #d4ebff;}#sk-container-id-82 input.sk-hidden--visually {border: 0;clip: rect(1px 1px 1px 1px);clip: rect(1px, 1px, 1px, 1px);height: 1px;margin: -1px;overflow: hidden;padding: 0;position: absolute;width: 1px;}#sk-container-id-82 div.sk-estimator {font-family: monospace;background-color: #f0f8ff;border: 1px dotted black;border-radius: 0.25em;box-sizing: border-box;margin-bottom: 0.5em;}#sk-container-id-82 div.sk-estimator:hover {background-color: #d4ebff;}#sk-container-id-82 div.sk-parallel-item::after {content: \"\";width: 100%;border-bottom: 1px solid gray;flex-grow: 1;}#sk-container-id-82 div.sk-label:hover label.sk-toggleable__label {background-color: #d4ebff;}#sk-container-id-82 div.sk-serial::before {content: \"\";position: absolute;border-left: 1px solid gray;box-sizing: border-box;top: 0;bottom: 0;left: 50%;z-index: 0;}#sk-container-id-82 div.sk-serial {display: flex;flex-direction: column;align-items: center;background-color: white;padding-right: 0.2em;padding-left: 0.2em;position: relative;}#sk-container-id-82 div.sk-item {position: relative;z-index: 1;}#sk-container-id-82 div.sk-parallel {display: flex;align-items: stretch;justify-content: center;background-color: white;position: relative;}#sk-container-id-82 div.sk-item::before, #sk-container-id-82 div.sk-parallel-item::before {content: \"\";position: absolute;border-left: 1px solid gray;box-sizing: border-box;top: 0;bottom: 0;left: 50%;z-index: -1;}#sk-container-id-82 div.sk-parallel-item {display: flex;flex-direction: column;z-index: 1;position: relative;background-color: white;}#sk-container-id-82 div.sk-parallel-item:first-child::after {align-self: flex-end;width: 50%;}#sk-container-id-82 div.sk-parallel-item:last-child::after {align-self: flex-start;width: 50%;}#sk-container-id-82 div.sk-parallel-item:only-child::after {width: 0;}#sk-container-id-82 div.sk-dashed-wrapped {border: 1px dashed gray;margin: 0 0.4em 0.5em 0.4em;box-sizing: border-box;padding-bottom: 0.4em;background-color: white;}#sk-container-id-82 div.sk-label label {font-family: monospace;font-weight: bold;display: inline-block;line-height: 1.2em;}#sk-container-id-82 div.sk-label-container {text-align: center;}#sk-container-id-82 div.sk-container {/* jupyter's `normalize.less` sets `[hidden] { display: none; }` but bootstrap.min.css set `[hidden] { display: none !important; }` so we also need the `!important` here to be able to override the default hidden behavior on the sphinx rendered scikit-learn.org. See: https://github.com/scikit-learn/scikit-learn/issues/21755 */display: inline-block !important;position: relative;}#sk-container-id-82 div.sk-text-repr-fallback {display: none;}</style><div id=\"sk-container-id-82\" class=\"sk-top-container\"><div class=\"sk-text-repr-fallback\"><pre>SVC(kernel=&#x27;linear&#x27;)</pre><b>In a Jupyter environment, please rerun this cell to show the HTML representation or trust the notebook. <br />On GitHub, the HTML representation is unable to render, please try loading this page with nbviewer.org.</b></div><div class=\"sk-container\" hidden><div class=\"sk-item\"><div class=\"sk-estimator sk-toggleable\"><input class=\"sk-toggleable__control sk-hidden--visually\" id=\"sk-estimator-id-82\" type=\"checkbox\" checked><label for=\"sk-estimator-id-82\" class=\"sk-toggleable__label sk-toggleable__label-arrow\">SVC</label><div class=\"sk-toggleable__content\"><pre>SVC(kernel=&#x27;linear&#x27;)</pre></div></div></div></div></div>"
            ],
            "text/plain": [
              "SVC(kernel='linear')"
            ]
          },
          "execution_count": 859,
          "metadata": {},
          "output_type": "execute_result"
        }
      ],
      "source": [
        "#training the support vector Machine Classifier\n",
        "classifier.fit(X_train, Y_train)"
      ]
    },
    {
      "cell_type": "markdown",
      "metadata": {
        "id": "UV4-CAfquiyP"
      },
      "source": [
        "Model Evaluation"
      ]
    },
    {
      "cell_type": "markdown",
      "metadata": {
        "id": "yhAjGPJWunXa"
      },
      "source": [
        "Accuracy Score"
      ]
    },
    {
      "cell_type": "code",
      "execution_count": 867,
      "metadata": {
        "id": "fJLEPQK7ueXp"
      },
      "outputs": [],
      "source": [
        "# accuracy score on the training data\n",
        "X_train_prediction = classifier.predict(X_train)\n",
        "training_data_accuracy = accuracy_score(X_train_prediction, Y_train)"
      ]
    },
    {
      "cell_type": "code",
      "execution_count": 874,
      "metadata": {
        "colab": {
          "base_uri": "https://localhost:8080/"
        },
        "id": "mmJ22qhVvNwj",
        "outputId": "02c81384-e6a7-4124-eab4-a5a74b72aa0b"
      },
      "outputs": [
        {
          "name": "stdout",
          "output_type": "stream",
          "text": [
            "Accuracy score of the training data :  0.6919642857142857\n"
          ]
        }
      ],
      "source": [
        "print('Accuracy score of the training data : ', training_data_accuracy)"
      ]
    },
    {
      "cell_type": "code",
      "execution_count": 880,
      "metadata": {
        "id": "G2CICFMEvcCl"
      },
      "outputs": [],
      "source": [
        "# accuracy score on the test data\n",
        "X_test_prediction = classifier.predict(X_test)\n",
        "test_data_accuracy = accuracy_score(X_test_prediction, Y_test)"
      ]
    },
    {
      "cell_type": "code",
      "execution_count": 885,
      "metadata": {
        "colab": {
          "base_uri": "https://localhost:8080/"
        },
        "id": "i2GcW_t_vz7C",
        "outputId": "fb3846e8-bbeb-4ab9-e1c2-87bc4e3594c7"
      },
      "outputs": [
        {
          "name": "stdout",
          "output_type": "stream",
          "text": [
            "Accuracy score of the test data :  0.7302798982188295\n"
          ]
        }
      ],
      "source": [
        "print('Accuracy score of the test data : ', test_data_accuracy)"
      ]
    },
    {
      "cell_type": "markdown",
      "metadata": {
        "id": "gq8ZX1xpwPF5"
      },
      "source": [
        "Making a Predictive System"
      ]
    },
    {
      "cell_type": "code",
      "execution_count": 890,
      "metadata": {
        "colab": {
          "base_uri": "https://localhost:8080/"
        },
        "id": "U-ULRe4yv5tH",
        "outputId": "631403b5-4d6a-4b69-f25f-05d6f433ca32"
      },
      "outputs": [
        {
          "name": "stdout",
          "output_type": "stream",
          "text": [
            "[[ 0.00000000e+00  4.00000000e+00 -5.79739101e-17 -5.79739101e-17\n",
            "  -1.73921730e-16  0.00000000e+00 -3.47843461e-16  0.00000000e+00\n",
            "   1.00000000e+00 -2.89869551e-17  1.00000000e+00  1.00000000e+00]]\n",
            "[1]\n",
            "The person is with Autism spectrum disorder\n"
          ]
        }
      ],
      "source": [
        "# input_data = (3,18,1,1,1,1,1,1,2,1,0,1,1)\n",
        "input_data = (0,4,0,0,0,0,0,0,1,0,1,1,0)\n",
        "# input_data = (0,4,1,1,1,1,1,1,1,1,1,1,1)\n",
        "\n",
        "# changing the input_data to numpy array\n",
        "\n",
        "input_data_as_numpy_array = np.asarray(input_data)\n",
        "\n",
        "# reshape the array as we are predicting for one instance\n",
        "input_data_reshaped = input_data_as_numpy_array.reshape(1,-1)[:, :12]\n",
        "\n",
        "# standardize the input data\n",
        "std_data = scaler.transform(input_data_reshaped)\n",
        "print(std_data)\n",
        "\n",
        "prediction = classifier.predict(std_data)\n",
        "print(prediction)\n",
        "\n",
        "if (prediction[0] == 0):\n",
        "  print('The person is not with Autism spectrum disorder')\n",
        "else:\n",
        "  print('The person is with Autism spectrum disorder')"
      ]
    },
    {
      "cell_type": "code",
      "execution_count": 891,
      "metadata": {
        "id": "Ex2A_pr4yCpm"
      },
      "outputs": [],
      "source": [
        "import pickle"
      ]
    },
    {
      "cell_type": "code",
      "execution_count": 892,
      "metadata": {
        "id": "2HMb5X_R0xw3"
      },
      "outputs": [],
      "source": [
        "#pickle.dump(autism_dataset,open(\"autism_dataset.pkl\",\"wb\"))"
      ]
    }
  ],
  "metadata": {
    "colab": {
      "provenance": []
    },
    "kernelspec": {
      "display_name": "Python 3",
      "name": "python3"
    },
    "language_info": {
      "codemirror_mode": {
        "name": "ipython",
        "version": 3
      },
      "file_extension": ".py",
      "mimetype": "text/x-python",
      "name": "python",
      "nbconvert_exporter": "python",
      "pygments_lexer": "ipython3",
      "version": "3.12.0"
    }
  },
  "nbformat": 4,
  "nbformat_minor": 0
}
